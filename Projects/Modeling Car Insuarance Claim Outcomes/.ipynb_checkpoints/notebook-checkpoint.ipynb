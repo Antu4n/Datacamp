{
 "cells": [
  {
   "cell_type": "markdown",
   "id": "c3f0e974-faf8-458f-bf2a-06a469d0ea5e",
   "metadata": {},
   "source": [
    "![car](car.jpg)\n",
    "\n",
    "Insurance companies invest a lot of [time and money](https://www.accenture.com/_acnmedia/pdf-84/accenture-machine-leaning-insurance.pdf) into optimizing their pricing and accurately estimating the likelihood that customers will make a claim. In many countries insurance it is a legal requirement to have car insurance in order to drive a vehicle on public roads, so the market is very large!\n",
    "\n",
    "Knowing all of this, On the Road car insurance have requested your services in building a model to predict whether a customer will make a claim on their insurance during the policy period. As they have very little expertise and infrastructure for deploying and monitoring machine learning models, they've asked you to identify the single feature that results in the best performing model, as measured by accuracy, so they can start with a simple model in production.\n",
    "\n",
    "They have supplied you with their customer data as a csv file called `car_insurance.csv`, along with a table detailing the column names and descriptions below."
   ]
  },
  {
   "cell_type": "markdown",
   "id": "8928ffdf-25d6-4ad9-909f-0dd8d10b9a42",
   "metadata": {},
   "source": [
    "\n",
    "\n",
    "## The dataset\n",
    "\n",
    "| Column | Description |\n",
    "|--------|-------------|\n",
    "| `id` | Unique client identifier |\n",
    "| `age` | Client's age: <br> <ul><li>`0`: 16-15</li><li>`1`: 26-39</li><li>`2`: 40-64</li><li>`3`: 65+</li></ul> |\n",
    "| `gender` | Client's gender: <br> <ul><li>`0`: Female</li><li>`1`: Male</li></ul> |\n",
    "| `driving_experience` | Years the client has been driving: <br> <ul><li>`0`: 0-9</li><li>`1`: 10-19</li><li>`2`: 20-29</li><li>`3`: 30+</li></ul> |\n",
    "| `education` | Client's level of education: <br> <ul><li>`0`: No education</li><li>`1`: High school</li><li>`2`: University</li></ul> |\n",
    "| `income` | Client's income level: <br> <ul><li>`0`: Poverty</li><li>`1`: Working class</li><li>`2`: Middle class</li><li>`3`: Upper class</li></ul> |\n",
    "| `credit_score` | Client's credit score (between zero and one) |\n",
    "| `vehicle_ownership` | Client's vehicle ownership status: <br><ul><li>`0`: Does not own their vehilce (paying off finance)</li><li>`1`: Owns their vehicle</li></ul> |\n",
    "| `vehcile_year` | Year of vehicle registration: <br><ul><li>`0`: Before 2015</li><li>`1`: 2015 or later</li></ul> |\n",
    "| `married` | Client's marital status: <br><ul><li>`0`: Not married</li><li>`1`: Married</li></ul> |\n",
    "| `children` | Client's number of children |\n",
    "| `postal_code` | Client's postal code | \n",
    "| `annual_mileage` | Number of miles driven by the client each year |\n",
    "| `vehicle_type` | Type of car: <br> <ul><li>`0`: Sedan</li><li>`1`: Sports car</li></ul> |\n",
    "| `speeding_violations` | Total number of speeding violations received by the client | \n",
    "| `duis` | Number of times the client has been caught driving under the influence of alcohol |\n",
    "| `past_accidents` | Total number of previous accidents the client has been involved in |\n",
    "| `outcome` | Whether the client made a claim on their car insurance (response variable): <br><ul><li>`0`: No claim</li><li>`1`: Made a claim</li></ul> |"
   ]
  },
  {
   "cell_type": "code",
   "execution_count": 34,
   "id": "d0eb4f16-5a99-460d-a5ba-706b7ef0bbe7",
   "metadata": {
    "executionCancelledAt": null,
    "executionTime": 51,
    "id": "bA5ajAmk7XH6",
    "lastExecutedAt": 1705089731340,
    "lastScheduledRunId": null,
    "lastSuccessfullyExecutedCode": "# Import required modules\nimport pandas as pd\nimport numpy as np\nfrom statsmodels.formula.api import logit\n\n# Start coding!\n#load the dataset in pandas\ndf = pd.read_csv(\"car_insurance.csv\")\ndf.head()"
   },
   "outputs": [
    {
     "data": {
      "text/html": [
       "<div>\n",
       "<style scoped>\n",
       "    .dataframe tbody tr th:only-of-type {\n",
       "        vertical-align: middle;\n",
       "    }\n",
       "\n",
       "    .dataframe tbody tr th {\n",
       "        vertical-align: top;\n",
       "    }\n",
       "\n",
       "    .dataframe thead th {\n",
       "        text-align: right;\n",
       "    }\n",
       "</style>\n",
       "<table border=\"1\" class=\"dataframe\">\n",
       "  <thead>\n",
       "    <tr style=\"text-align: right;\">\n",
       "      <th></th>\n",
       "      <th>id</th>\n",
       "      <th>age</th>\n",
       "      <th>gender</th>\n",
       "      <th>driving_experience</th>\n",
       "      <th>education</th>\n",
       "      <th>income</th>\n",
       "      <th>credit_score</th>\n",
       "      <th>vehicle_ownership</th>\n",
       "      <th>vehicle_year</th>\n",
       "      <th>married</th>\n",
       "      <th>children</th>\n",
       "      <th>postal_code</th>\n",
       "      <th>annual_mileage</th>\n",
       "      <th>vehicle_type</th>\n",
       "      <th>speeding_violations</th>\n",
       "      <th>duis</th>\n",
       "      <th>past_accidents</th>\n",
       "      <th>outcome</th>\n",
       "    </tr>\n",
       "  </thead>\n",
       "  <tbody>\n",
       "    <tr>\n",
       "      <th>0</th>\n",
       "      <td>569520</td>\n",
       "      <td>3</td>\n",
       "      <td>0</td>\n",
       "      <td>0-9y</td>\n",
       "      <td>high school</td>\n",
       "      <td>upper class</td>\n",
       "      <td>0.629027</td>\n",
       "      <td>1.0</td>\n",
       "      <td>after 2015</td>\n",
       "      <td>0.0</td>\n",
       "      <td>1.0</td>\n",
       "      <td>10238</td>\n",
       "      <td>12000.0</td>\n",
       "      <td>sedan</td>\n",
       "      <td>0</td>\n",
       "      <td>0</td>\n",
       "      <td>0</td>\n",
       "      <td>0.0</td>\n",
       "    </tr>\n",
       "    <tr>\n",
       "      <th>1</th>\n",
       "      <td>750365</td>\n",
       "      <td>0</td>\n",
       "      <td>1</td>\n",
       "      <td>0-9y</td>\n",
       "      <td>none</td>\n",
       "      <td>poverty</td>\n",
       "      <td>0.357757</td>\n",
       "      <td>0.0</td>\n",
       "      <td>before 2015</td>\n",
       "      <td>0.0</td>\n",
       "      <td>0.0</td>\n",
       "      <td>10238</td>\n",
       "      <td>16000.0</td>\n",
       "      <td>sedan</td>\n",
       "      <td>0</td>\n",
       "      <td>0</td>\n",
       "      <td>0</td>\n",
       "      <td>1.0</td>\n",
       "    </tr>\n",
       "    <tr>\n",
       "      <th>2</th>\n",
       "      <td>199901</td>\n",
       "      <td>0</td>\n",
       "      <td>0</td>\n",
       "      <td>0-9y</td>\n",
       "      <td>high school</td>\n",
       "      <td>working class</td>\n",
       "      <td>0.493146</td>\n",
       "      <td>1.0</td>\n",
       "      <td>before 2015</td>\n",
       "      <td>0.0</td>\n",
       "      <td>0.0</td>\n",
       "      <td>10238</td>\n",
       "      <td>11000.0</td>\n",
       "      <td>sedan</td>\n",
       "      <td>0</td>\n",
       "      <td>0</td>\n",
       "      <td>0</td>\n",
       "      <td>0.0</td>\n",
       "    </tr>\n",
       "    <tr>\n",
       "      <th>3</th>\n",
       "      <td>478866</td>\n",
       "      <td>0</td>\n",
       "      <td>1</td>\n",
       "      <td>0-9y</td>\n",
       "      <td>university</td>\n",
       "      <td>working class</td>\n",
       "      <td>0.206013</td>\n",
       "      <td>1.0</td>\n",
       "      <td>before 2015</td>\n",
       "      <td>0.0</td>\n",
       "      <td>1.0</td>\n",
       "      <td>32765</td>\n",
       "      <td>11000.0</td>\n",
       "      <td>sedan</td>\n",
       "      <td>0</td>\n",
       "      <td>0</td>\n",
       "      <td>0</td>\n",
       "      <td>0.0</td>\n",
       "    </tr>\n",
       "    <tr>\n",
       "      <th>4</th>\n",
       "      <td>731664</td>\n",
       "      <td>1</td>\n",
       "      <td>1</td>\n",
       "      <td>10-19y</td>\n",
       "      <td>none</td>\n",
       "      <td>working class</td>\n",
       "      <td>0.388366</td>\n",
       "      <td>1.0</td>\n",
       "      <td>before 2015</td>\n",
       "      <td>0.0</td>\n",
       "      <td>0.0</td>\n",
       "      <td>32765</td>\n",
       "      <td>12000.0</td>\n",
       "      <td>sedan</td>\n",
       "      <td>2</td>\n",
       "      <td>0</td>\n",
       "      <td>1</td>\n",
       "      <td>1.0</td>\n",
       "    </tr>\n",
       "  </tbody>\n",
       "</table>\n",
       "</div>"
      ],
      "text/plain": [
       "       id  age  gender driving_experience    education         income  \\\n",
       "0  569520    3       0               0-9y  high school    upper class   \n",
       "1  750365    0       1               0-9y         none        poverty   \n",
       "2  199901    0       0               0-9y  high school  working class   \n",
       "3  478866    0       1               0-9y   university  working class   \n",
       "4  731664    1       1             10-19y         none  working class   \n",
       "\n",
       "   credit_score  vehicle_ownership vehicle_year  married  children  \\\n",
       "0      0.629027                1.0   after 2015      0.0       1.0   \n",
       "1      0.357757                0.0  before 2015      0.0       0.0   \n",
       "2      0.493146                1.0  before 2015      0.0       0.0   \n",
       "3      0.206013                1.0  before 2015      0.0       1.0   \n",
       "4      0.388366                1.0  before 2015      0.0       0.0   \n",
       "\n",
       "   postal_code  annual_mileage vehicle_type  speeding_violations  duis  \\\n",
       "0        10238         12000.0        sedan                    0     0   \n",
       "1        10238         16000.0        sedan                    0     0   \n",
       "2        10238         11000.0        sedan                    0     0   \n",
       "3        32765         11000.0        sedan                    0     0   \n",
       "4        32765         12000.0        sedan                    2     0   \n",
       "\n",
       "   past_accidents  outcome  \n",
       "0               0      0.0  \n",
       "1               0      1.0  \n",
       "2               0      0.0  \n",
       "3               0      0.0  \n",
       "4               1      1.0  "
      ]
     },
     "execution_count": 34,
     "metadata": {},
     "output_type": "execute_result"
    }
   ],
   "source": [
    "# Import required modules\n",
    "import pandas as pd\n",
    "import numpy as np\n",
    "from statsmodels.formula.api import logit\n",
    "\n",
    "# Start coding!\n",
    "#load the dataset in pandas\n",
    "df = pd.read_csv(\"dataset/car_insurance.csv\")\n",
    "df.head()"
   ]
  },
  {
   "cell_type": "code",
   "execution_count": 38,
   "id": "c3475c9a",
   "metadata": {},
   "outputs": [
    {
     "name": "stdout",
     "output_type": "stream",
     "text": [
      "  DrivingExperience  Age\n",
      "0             10-19   40\n",
      "1             20-30   36\n",
      "2               30+   26\n",
      "3               0-9   35\n",
      "4             10-19   22\n"
     ]
    }
   ],
   "source": [
    "#Generate random driving experience data\n",
    "def generate_driving_experience(num_samples):\n",
    "    categories = ['0-9', '10-19', '20-30', '30+']\n",
    "    return np.random.choice(categories, size=num_samples)\n",
    "\n",
    "# Generate random age data\n",
    "def generate_age_data(num_samples):\n",
    "    return np.random.randint(18, 65, size=num_samples)\n",
    "\n",
    "# Set the number of samples\n",
    "num_samples = 1000\n",
    "\n",
    "# Generate driving experience and age data\n",
    "driving_experience_data = generate_driving_experience(num_samples)\n",
    "age_data = generate_age_data(num_samples)\n",
    "\n",
    "# Create a DataFrame\n",
    "data = pd.DataFrame({'DrivingExperience': driving_experience_data, 'Age': age_data})\n",
    "\n",
    "# Display the generated data\n",
    "print(data.head())"
   ]
  },
  {
   "cell_type": "markdown",
   "id": "3ab51db8-5a27-46d1-9627-b4514576b87c",
   "metadata": {},
   "source": [
    "#### Explanatory Data Analysis"
   ]
  },
  {
   "cell_type": "code",
   "execution_count": 20,
   "id": "8ebf19f1-45f1-4e29-9bed-3755fcd96149",
   "metadata": {
    "executionCancelledAt": null,
    "executionTime": 47,
    "lastExecutedAt": 1705089731387,
    "lastScheduledRunId": null,
    "lastSuccessfullyExecutedCode": "df.info()"
   },
   "outputs": [
    {
     "name": "stdout",
     "output_type": "stream",
     "text": [
      "<class 'pandas.core.frame.DataFrame'>\n",
      "RangeIndex: 10000 entries, 0 to 9999\n",
      "Data columns (total 18 columns):\n",
      " #   Column               Non-Null Count  Dtype  \n",
      "---  ------               --------------  -----  \n",
      " 0   id                   10000 non-null  int64  \n",
      " 1   age                  10000 non-null  int64  \n",
      " 2   gender               10000 non-null  int64  \n",
      " 3   driving_experience   10000 non-null  object \n",
      " 4   education            10000 non-null  object \n",
      " 5   income               10000 non-null  object \n",
      " 6   credit_score         9018 non-null   float64\n",
      " 7   vehicle_ownership    10000 non-null  float64\n",
      " 8   vehicle_year         10000 non-null  object \n",
      " 9   married              10000 non-null  float64\n",
      " 10  children             10000 non-null  float64\n",
      " 11  postal_code          10000 non-null  int64  \n",
      " 12  annual_mileage       9043 non-null   float64\n",
      " 13  vehicle_type         10000 non-null  object \n",
      " 14  speeding_violations  10000 non-null  int64  \n",
      " 15  duis                 10000 non-null  int64  \n",
      " 16  past_accidents       10000 non-null  int64  \n",
      " 17  outcome              10000 non-null  float64\n",
      "dtypes: float64(6), int64(7), object(5)\n",
      "memory usage: 1.4+ MB\n"
     ]
    }
   ],
   "source": [
    "df.info()"
   ]
  },
  {
   "cell_type": "code",
   "execution_count": 23,
   "id": "a50083d0-9133-4a03-9034-b5eb03781898",
   "metadata": {
    "executionCancelledAt": null,
    "executionTime": 210,
    "lastExecutedAt": 1705089731597,
    "lastScheduledRunId": null,
    "lastSuccessfullyExecutedCode": "#check for null values\ndf.isna().sum()\ndf[df[\"credit_score\"].isna()]\ndf[df[\"annual_mileage\"].isna()]\n#plot the missing values\nmissing_values = df.isna().sum()\nmissing_values.plot(kind = \"bar\")\n\n"
   },
   "outputs": [
    {
     "data": {
      "text/plain": [
       "<AxesSubplot:>"
      ]
     },
     "execution_count": 23,
     "metadata": {},
     "output_type": "execute_result"
    },
    {
     "data": {
      "image/png": "[encoded data removed]",
      "text/plain": [
       "<Figure size 720x360 with 1 Axes>"
      ]
     },
     "metadata": {
      "needs_background": "light"
     },
     "output_type": "display_data"
    }
   ],
   "source": [
    "#check for null values\n",
    "df.isna().sum()\n",
    "df[df[\"credit_score\"].isna()]\n",
    "df[df[\"annual_mileage\"].isna()]\n",
    "#plot the missing values\n",
    "missing_values = df.isna().sum()\n",
    "\n",
    "missing_values.plot(kind = \"bar\", figsize = (10,5))\n",
    "\n"
   ]
  },
  {
   "cell_type": "code",
   "execution_count": 24,
   "id": "fc2e0f80-0d59-4a3e-a62c-82d0a94685a6",
   "metadata": {
    "executionCancelledAt": null,
    "executionTime": 50,
    "lastExecutedAt": 1705089731647,
    "lastScheduledRunId": null,
    "lastSuccessfullyExecutedCode": "#impute the missing values with the mean.\n#credit score column\navg_credit_score = df[\"credit_score\"].mean()\ndf.loc[df[\"credit_score\"].isna(), \"credit_score\"] = avg_credit_score\n#annual mileage column\navg_mileage = df[\"annual_mileage\"].mean()\ndf.loc[df[\"annual_mileage\"].isna(), \"annual_mileage\"] = avg_mileage\ndf.isna().sum()\n"
   },
   "outputs": [
    {
     "data": {
      "text/plain": [
       "id                     0\n",
       "age                    0\n",
       "gender                 0\n",
       "driving_experience     0\n",
       "education              0\n",
       "income                 0\n",
       "credit_score           0\n",
       "vehicle_ownership      0\n",
       "vehicle_year           0\n",
       "married                0\n",
       "children               0\n",
       "postal_code            0\n",
       "annual_mileage         0\n",
       "vehicle_type           0\n",
       "speeding_violations    0\n",
       "duis                   0\n",
       "past_accidents         0\n",
       "outcome                0\n",
       "dtype: int64"
      ]
     },
     "execution_count": 24,
     "metadata": {},
     "output_type": "execute_result"
    }
   ],
   "source": [
    "#impute the missing values with the mean.\n",
    "#credit score column\n",
    "avg_credit_score = df[\"credit_score\"].mean()\n",
    "df.loc[df[\"credit_score\"].isna(), \"credit_score\"] = avg_credit_score\n",
    "#annual mileage column\n",
    "avg_mileage = df[\"annual_mileage\"].mean()\n",
    "df.loc[df[\"annual_mileage\"].isna(), \"annual_mileage\"] = avg_mileage\n",
    "df.isna().sum()\n"
   ]
  },
  {
   "cell_type": "code",
   "execution_count": 25,
   "id": "9d15ce76-5fdc-4d93-a530-146e3a937750",
   "metadata": {
    "executionCancelledAt": null,
    "executionTime": 47,
    "lastExecutedAt": 1705089731694,
    "lastScheduledRunId": null,
    "lastSuccessfullyExecutedCode": "# subset the columns of interest\nsubset_df = df.drop(columns = \"id\", axis = 1)"
   },
   "outputs": [],
   "source": [
    "# subset the columns of interest\n",
    "subset_df = df.drop(columns = \"id\", axis = 1)"
   ]
  },
  {
   "cell_type": "markdown",
   "id": "1e4c8322-2ba6-4e71-94d8-0c00f7788279",
   "metadata": {},
   "source": [
    "#### Model all the columns with the outcome column to indentify the best model of determining whether the customer will put in a claim"
   ]
  },
  {
   "cell_type": "code",
   "execution_count": 26,
   "id": "9e6506b6-90bd-4537-b866-8a4ceed628b0",
   "metadata": {
    "executionCancelledAt": null,
    "executionTime": 700,
    "lastExecutedAt": 1705089732395,
    "lastScheduledRunId": null,
    "lastSuccessfullyExecutedCode": "#create an empty list that will the store the values from the fitted model and a list for the confusion matrix.\nmodel_values = []\nconf_matrix = []\n\n#loop through each column fitting the data against the outcome column\nfor col in subset_df.columns:\n    if col!=\"outcome\":\n        print(col)\n        model = logit(f\"outcome ~ {col}\",data = subset_df).fit()\n        model_values.append(model)\n        \n        results[col] = {\"model\": model} \n        \n        confusion_matrix = model.pred_table()\n        conf_matrix.append(confusion_matrix)\n        \n    else: pass\n\nprint(model_values)\nprint(conf_matrix)\n",
    "outputsMetadata": {
     "0": {
      "height": 357,
      "type": "stream"
     }
    }
   },
   "outputs": [
    {
     "name": "stdout",
     "output_type": "stream",
     "text": [
      "age\n",
      "Optimization terminated successfully.\n",
      "         Current function value: 0.511794\n",
      "         Iterations 6\n",
      "gender\n",
      "Optimization terminated successfully.\n",
      "         Current function value: 0.615951\n",
      "         Iterations 5\n",
      "driving_experience\n",
      "Optimization terminated successfully.\n",
      "         Current function value: 0.467092\n",
      "         Iterations 8\n",
      "education\n",
      "Optimization terminated successfully.\n",
      "         Current function value: 0.603742\n",
      "         Iterations 5\n",
      "income\n",
      "Optimization terminated successfully.\n",
      "         Current function value: 0.531499\n",
      "         Iterations 6\n",
      "credit_score\n",
      "Optimization terminated successfully.\n",
      "         Current function value: 0.572557\n",
      "         Iterations 6\n",
      "vehicle_ownership\n",
      "Optimization terminated successfully.\n",
      "         Current function value: 0.552412\n",
      "         Iterations 5\n",
      "vehicle_year\n",
      "Optimization terminated successfully.\n",
      "         Current function value: 0.572668\n",
      "         Iterations 6\n",
      "married\n",
      "Optimization terminated successfully.\n",
      "         Current function value: 0.586659\n",
      "         Iterations 5\n",
      "children\n",
      "Optimization terminated successfully.\n",
      "         Current function value: 0.595431\n",
      "         Iterations 5\n",
      "postal_code\n",
      "Optimization terminated successfully.\n",
      "         Current function value: 0.617345\n",
      "         Iterations 5\n",
      "annual_mileage\n",
      "Optimization terminated successfully.\n",
      "         Current function value: 0.605716\n",
      "         Iterations 5\n",
      "vehicle_type\n",
      "Optimization terminated successfully.\n",
      "         Current function value: 0.621700\n",
      "         Iterations 5\n",
      "speeding_violations\n",
      "Optimization terminated successfully.\n",
      "         Current function value: 0.558922\n",
      "         Iterations 7\n",
      "duis\n",
      "Optimization terminated successfully.\n",
      "         Current function value: 0.598699\n",
      "         Iterations 6\n",
      "past_accidents\n",
      "Optimization terminated successfully.\n",
      "         Current function value: 0.549220\n",
      "         Iterations 7\n",
      "[<statsmodels.discrete.discrete_model.BinaryResultsWrapper object at 0x0000023D290CB9D0>, <statsmodels.discrete.discrete_model.BinaryResultsWrapper object at 0x0000023D75B70550>, <statsmodels.discrete.discrete_model.BinaryResultsWrapper object at 0x0000023D290CBC40>, <statsmodels.discrete.discrete_model.BinaryResultsWrapper object at 0x0000023D2B1A0190>, <statsmodels.discrete.discrete_model.BinaryResultsWrapper object at 0x0000023D2B1A20E0>, <statsmodels.discrete.discrete_model.BinaryResultsWrapper object at 0x0000023D2B1A1E10>, <statsmodels.discrete.discrete_model.BinaryResultsWrapper object at 0x0000023D2B1A3B80>, <statsmodels.discrete.discrete_model.BinaryResultsWrapper object at 0x0000023D2B1A18D0>, <statsmodels.discrete.discrete_model.BinaryResultsWrapper object at 0x0000023D2B1CC7C0>, <statsmodels.discrete.discrete_model.BinaryResultsWrapper object at 0x0000023D2B1CE650>, <statsmodels.discrete.discrete_model.BinaryResultsWrapper object at 0x0000023D2B1CE980>, <statsmodels.discrete.discrete_model.BinaryResultsWrapper object at 0x0000023D2B1CED40>, <statsmodels.discrete.discrete_model.BinaryResultsWrapper object at 0x0000023D2B1CECB0>, <statsmodels.discrete.discrete_model.BinaryResultsWrapper object at 0x0000023D2B1DD000>, <statsmodels.discrete.discrete_model.BinaryResultsWrapper object at 0x0000023D2B1DC670>, <statsmodels.discrete.discrete_model.BinaryResultsWrapper object at 0x0000023D2E0EADD0>]\n",
      "[array([[6299.,  568.],\n",
      "       [1685., 1448.]]), array([[6867.,    0.],\n",
      "       [3133.,    0.]]), array([[5554., 1313.],\n",
      "       [ 916., 2217.]]), array([[6867.,    0.],\n",
      "       [3133.,    0.]]), array([[6239.,  628.],\n",
      "       [1947., 1186.]]), array([[6321.,  546.],\n",
      "       [2400.,  733.]]), array([[5594., 1273.],\n",
      "       [1376., 1757.]]), array([[6867.,    0.],\n",
      "       [3133.,    0.]]), array([[6867.,    0.],\n",
      "       [3133.,    0.]]), array([[6867.,    0.],\n",
      "       [3133.,    0.]]), array([[6867.,    0.],\n",
      "       [3133.,    0.]]), array([[6801.,   66.],\n",
      "       [3030.,  103.]]), array([[6867.,    0.],\n",
      "       [3133.,    0.]]), array([[6867.,    0.],\n",
      "       [3133.,    0.]]), array([[6867.,    0.],\n",
      "       [3133.,    0.]]), array([[6867.,    0.],\n",
      "       [3133.,    0.]])]\n"
     ]
    }
   ],
   "source": [
    "#create an empty list that will the store the values from the fitted model and a list for the confusion matrix.\n",
    "model_values = []\n",
    "conf_matrix = []\n",
    "\n",
    "#loop through each column fitting the data against the outcome column\n",
    "for col in subset_df.columns:\n",
    "    if col!=\"outcome\":\n",
    "        print(col)\n",
    "        model = logit(f\"outcome ~ {col}\",data = subset_df).fit()\n",
    "        model_values.append(model)\n",
    "                \n",
    "        confusion_matrix = model.pred_table()\n",
    "        conf_matrix.append(confusion_matrix)\n",
    "        \n",
    "    else: pass\n",
    "\n",
    "print(model_values)\n",
    "print(conf_matrix)\n"
   ]
  },
  {
   "cell_type": "markdown",
   "id": "c290b648-e186-423c-8801-050fcf7e59e3",
   "metadata": {},
   "source": [
    "#### We know measure the result obtained by accuracy to identify the best performing model for predicting the claims"
   ]
  },
  {
   "cell_type": "code",
   "execution_count": 27,
   "id": "efcefcd5-5d85-40e0-9612-754fb7026ccc",
   "metadata": {
    "executionCancelledAt": null,
    "executionTime": 53,
    "lastExecutedAt": 1705089732448,
    "lastScheduledRunId": null,
    "lastSuccessfullyExecutedCode": "#create a list to store the accuracy values\naccuracies= []\n#get the required parameters for calculating accuracy\nfor i in conf_matrix:\n    TN = i[0][0]\n    TP = i[1][1]\n    FN = i[1][0]\n    FP = i[0][1]\n    #calculate the accuracy of each of the models\n    accuracy = (TN +TP)/ (TN + TP + FP +FN)\n    accuracies.append(accuracy)\n    \n#get the most accurate model\nbest_accuracy = max(accuracies)\nbest_accuracy\n#find the feature with the largest accuracy\nbest_feature = subset_df.columns[accuracies.index(max(accuracies))]  \nbest_feature"
   },
   "outputs": [
    {
     "data": {
      "text/plain": [
       "'driving_experience'"
      ]
     },
     "execution_count": 27,
     "metadata": {},
     "output_type": "execute_result"
    }
   ],
   "source": [
    "#create a list to store the accuracy values\n",
    "accuracies= []\n",
    "#get the required parameters for calculating accuracy\n",
    "for i in conf_matrix:\n",
    "    TN = i[0][0]\n",
    "    TP = i[1][1]\n",
    "    FN = i[1][0]\n",
    "    FP = i[0][1]\n",
    "    #calculate the accuracy of each of the models\n",
    "    accuracy = (TN +TP)/ (TN + TP + FP +FN)\n",
    "    accuracies.append(accuracy)\n",
    "    \n",
    "#get the most accurate model\n",
    "best_accuracy = max(accuracies)\n",
    "best_accuracy\n",
    "#find the feature with the largest accuracy\n",
    "best_feature = subset_df.columns[accuracies.index(max(accuracies))]  \n",
    "best_feature"
   ]
  },
  {
   "cell_type": "markdown",
   "id": "4a7e449e",
   "metadata": {},
   "source": [
    "### Store the results as a dataframe"
   ]
  },
  {
   "cell_type": "code",
   "execution_count": 28,
   "id": "99156013-b5f4-43a1-9167-114c640b572c",
   "metadata": {
    "executionCancelledAt": null,
    "executionTime": 55,
    "lastExecutedAt": 1705089732503,
    "lastScheduledRunId": null,
    "lastSuccessfullyExecutedCode": "best_feature_df = pd.DataFrame({\n    \"best_feature\":best_feature,\n    \"best_accuracy\":best_accuracy,\n}, index = [0])\nbest_feature_df"
   },
   "outputs": [
    {
     "data": {
      "text/html": [
       "<div>\n",
       "<style scoped>\n",
       "    .dataframe tbody tr th:only-of-type {\n",
       "        vertical-align: middle;\n",
       "    }\n",
       "\n",
       "    .dataframe tbody tr th {\n",
       "        vertical-align: top;\n",
       "    }\n",
       "\n",
       "    .dataframe thead th {\n",
       "        text-align: right;\n",
       "    }\n",
       "</style>\n",
       "<table border=\"1\" class=\"dataframe\">\n",
       "  <thead>\n",
       "    <tr style=\"text-align: right;\">\n",
       "      <th></th>\n",
       "      <th>best_feature</th>\n",
       "      <th>best_accuracy</th>\n",
       "    </tr>\n",
       "  </thead>\n",
       "  <tbody>\n",
       "    <tr>\n",
       "      <th>0</th>\n",
       "      <td>driving_experience</td>\n",
       "      <td>0.7771</td>\n",
       "    </tr>\n",
       "  </tbody>\n",
       "</table>\n",
       "</div>"
      ],
      "text/plain": [
       "         best_feature  best_accuracy\n",
       "0  driving_experience         0.7771"
      ]
     },
     "execution_count": 28,
     "metadata": {},
     "output_type": "execute_result"
    }
   ],
   "source": [
    "best_feature_df = pd.DataFrame({\n",
    "    \"best_feature\":best_feature,\n",
    "    \"best_accuracy\":best_accuracy,\n",
    "}, index = [0])\n",
    "best_feature_df"
   ]
  },
  {
   "cell_type": "markdown",
   "id": "f228eb40-485f-4d3d-98d9-217e7172262c",
   "metadata": {},
   "source": [
    "## CONCLUSION"
   ]
  },
  {
   "cell_type": "markdown",
   "id": "fa78deb3-ee31-414a-8d81-ca2bd4ea7599",
   "metadata": {},
   "source": [
    "### We can conclude that the driving experience column provides the best fit for determining whether a customer will make an insuarance claim during the policy period. "
   ]
  }
 ],
 "metadata": {
  "colab": {
   "name": "Welcome to DataCamp Workspaces.ipynb",
   "provenance": []
  },
  "editor": "DataCamp Workspace",
  "kernelspec": {
   "display_name": "Python 3 (ipykernel)",
   "language": "python",
   "name": "python3"
  },
  "language_info": {
   "codemirror_mode": {
    "name": "ipython",
    "version": 3
   },
   "file_extension": ".py",
   "mimetype": "text/x-python",
   "name": "python",
   "nbconvert_exporter": "python",
   "pygments_lexer": "ipython3",
   "version": "3.10.11"
  },
  "vscode": {
   "interpreter": {
    "hash": "aee8b7b246df8f9039afb4144a1f6fd8d2ca17a180786b69acc140d282b71a49"
   }
  }
 },
 "nbformat": 4,
 "nbformat_minor": 5
}
